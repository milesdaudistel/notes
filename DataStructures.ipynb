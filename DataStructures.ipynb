{
 "cells": [
  {
   "cell_type": "markdown",
   "metadata": {},
   "source": [
    "61b data structures\n",
    "170 graphs\n",
    "170 dynamic programming\n",
    "python / go\n",
    "explain something you worked on in detail\n",
    "depth first search\n",
    "breadth first search\n",
    "topological sort\n",
    "trees\n",
    "dags\n",
    "\n"
   ]
  },
  {
   "cell_type": "markdown",
   "metadata": {},
   "source": [
    "# Dynamic Programming\n",
    "\n",
    "Remember from the 170 textbook that dynamic programming is a 'sledgehammer' approach to computational problem solving.  It solves a lot of problems, which is why it is so commonly asked about on coding interviews.  Dynamic programming isn't an algorithm; it's an algorithmic paradigm.  Different problems require different algorithms, but if the problems solution algorithm stores solutions to subproblems for later use, then its a dynamic programming algorithm.\n",
    "\n",
    "I'm stealing most of this from:\n",
    "https://www.geeksforgeeks.org/overlapping-subproblems-property-in-dynamic-programming-dp-1/\n",
    "\n",
    "Let's say we want to compute the fibonnaci sequence.  If you've forgotten, it's 1, 1, 2, 3, 5, 8, etc.  For every n in the fibonnaci sequence, it is the result of the previous 2 numbers in the sequence.  Here's a naive program for computing the sequence:\n",
    "\n"
   ]
  },
  {
   "cell_type": "code",
   "execution_count": 4,
   "metadata": {},
   "outputs": [
    {
     "data": {
      "text/plain": [
       "5"
      ]
     },
     "execution_count": 4,
     "metadata": {},
     "output_type": "execute_result"
    }
   ],
   "source": [
    "def fib(n):\n",
    "    if n <= 1:\n",
    "        return n\n",
    "    return fib(n-1) + fib(n-2)\n",
    "\n",
    "fib(5) #the fifth fib number should be 5"
   ]
  },
  {
   "cell_type": "markdown",
   "metadata": {},
   "source": [
    "This works, but it repeats certain computations.  Here's the computation tree of fib(5):\n",
    "\n",
    "                             fib(5)\n",
    "                         /             \\\n",
    "                   fib(4)                fib(3)\n",
    "                 /      \\                /     \\\n",
    "             fib(3)      fib(2)         fib(2)    fib(1)\n",
    "            /     \\        /    \\       /    \\\n",
    "      fib(2)   fib(1)  fib(1) fib(0) fib(1) fib(0)\n",
    "      /    \\\n",
    "    fib(1) fib(0)\n",
    "\n",
    "Notice that  fib(3) is being calculated twice.  Because fib(3) is calcuated twice, fib(2) is calculated 3 times, which means fib(1) is calculated 5 times, and fib(0) is calculated 3 times.  This is inefficient.\n",
    "\n",
    "In dynamic programming, we save solutions to subproblems in a table.  Whenever we are about to compute a subproblem, we first look in our table to see if we've already solved that subproblem.\n",
    "\n",
    "`what is the runtime of a recursive strategy?`\n",
    "\n",
    "If dynamic programming is possible, that means the recursive strategy would be 'branching', which would probably mean exponential time. \n",
    "\n",
    "`How do you know when to use dynamic programming?`\n",
    "\n",
    "Conceptualize your problem.\n",
    "\n",
    "If it has a tree-like (multiple recursive call) structure, it's either divide-and-conquer or dynamic programming.  If the subproblems result in computing the same values multiple times, its definitely dynamic programming.\n",
    "\n",
    "More formally, there are 2 properties of a problem that make it dynamic programming:  'overlapping subproblems', and 'optimal substructure'.  Read about them here:\n",
    "\n",
    "https://www.geeksforgeeks.org/overlapping-subproblems-property-in-dynamic-programming-dp-1/\n",
    "\n",
    "https://www.geeksforgeeks.org/optimal-substructure-property-in-dynamic-programming-dp-2/\n",
    "\n",
    "`What is the difference between using tabulation and memoization strategies?`\n",
    "\n",
    "Memoization is 'top down', since it starts at the problem and makes recursive calls until it can get to the base problem, then works its way back up.\n",
    "\n",
    "Tabulation is 'bottom up', starting at the simplest problem and working its way up.\n",
    "\n",
    "Really memoization starts at the top, goes to the bottom, and comes back up.  Tabulation starts at the bottom and goes up.  So they have the same big-O runtime, but tabulation will be faster by some constant factor if you apply it correctly.\n",
    "\n",
    "If you need to solve all the sub problems to get your answer, lean towards tabulation.  The fibonacci sequence is one such problem.\n",
    "\n",
    "However, most dynamic programming problems don't require you to solve all the possible sub problems.  In this case, use memoization.\n",
    "\n",
    "You _can_ use tabulation for problems that don't require you to solve all the sub problems, but a tabulation method will solve those sub problems anyway, leading to inefficiency.\n",
    "\n",
    "This link also explains it quite well:\n",
    "https://programming.guide/dynamic-programming-vs-memoization-vs-tabulation.html\n",
    "\n",
    "\"If the original problem requires all subproblems to be solved, tabulation usually outperformes memoization by a constant factor. This is because tabulation has no overhead for recursion and can use a preallocated array rather than a hash map.\n",
    "\n",
    "If only some of the subproblems needs to be solved for the original problem to be solved, then memoization is preferrable since the subproblems are solved lazily, i.e. precisely the computations needed are carried out.\"\n",
    "\n",
    "Let's look at the solutions to the fibonnaci problem with both memoization and tabulation."
   ]
  },
  {
   "cell_type": "code",
   "execution_count": 15,
   "metadata": {},
   "outputs": [
    {
     "name": "stdout",
     "output_type": "stream",
     "text": [
      "Fibonacci Number is  5702887\n"
     ]
    }
   ],
   "source": [
    "#memoization\n",
    "\n",
    "def fib(n):\n",
    "    if f[n] is None:\n",
    "        f[n] = fib(n-1)  + fib(n-2)\n",
    "    return f[n]\n",
    "\n",
    "n = 34\n",
    "f = [None]*(n+1)\n",
    "f[0] = 0\n",
    "f[1] = 1\n",
    "print(\"Fibonacci Number is \", fib(n))"
   ]
  },
  {
   "cell_type": "code",
   "execution_count": 9,
   "metadata": {},
   "outputs": [
    {
     "name": "stdout",
     "output_type": "stream",
     "text": [
      "Fibonacci number is  5702887\n"
     ]
    }
   ],
   "source": [
    "#tabulation\n",
    "\n",
    "def fib(n):\n",
    "    for i in range(2 , n+1):\n",
    "        f[i] = f[i-1] + f[i-2]\n",
    "    return f[n]\n",
    "\n",
    "n = 34\n",
    "f = [0]*(n+1)\n",
    "f[1] = 1\n",
    "print(\"Fibonacci number is \" , fib(n))"
   ]
  },
  {
   "cell_type": "markdown",
   "metadata": {},
   "source": [
    "Although these are almost identical, the tabulation method will be faster by a constant factor, since there's no recursion overhead.  I haven't bothered to test it because fibbonaci is fast no matter what you give it.\n",
    "\n",
    "The fibonacci sequence is more suited to tabulation since each term in the sequence requires the computation of the previous 2 terms, which themselves require the computation of previous terms, etc.  So the nth term depends on all the preceding terms, which means the $1^{st}$ term all the way to the $n-1^{th}$ term need to be computed.\n",
    "\n",
    "Most dynamic programming problems aren't this simple, and will likely require the use of memoization rather than tabulation."
   ]
  },
  {
   "cell_type": "code",
   "execution_count": null,
   "metadata": {},
   "outputs": [],
   "source": []
  }
 ],
 "metadata": {
  "kernelspec": {
   "display_name": "Python 3",
   "language": "python",
   "name": "python3"
  },
  "language_info": {
   "codemirror_mode": {
    "name": "ipython",
    "version": 3
   },
   "file_extension": ".py",
   "mimetype": "text/x-python",
   "name": "python",
   "nbconvert_exporter": "python",
   "pygments_lexer": "ipython3",
   "version": "3.6.5"
  }
 },
 "nbformat": 4,
 "nbformat_minor": 2
}
