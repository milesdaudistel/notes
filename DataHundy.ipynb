{
 "cells": [
  {
   "cell_type": "markdown",
   "metadata": {},
   "source": [
    "## Cool jupyter notebook commands\n",
    "\n",
    "`escape and enter` switch between edit (green) and command (blue) cell modes\n",
    "\n",
    "`shift+enter` runs the cell and goes to the next one\n",
    "\n",
    "`shift+tab` opens document on the current function.  Only works in python cell.\n",
    "\n",
    "`option+click+drag` highlight columns as well as rows.  Like visual block in vim.\n",
    "\n",
    "`edit:  cmd+shift+p` lets you see a list of all the jupyter notebook commands\n",
    "\n",
    "`command mode: j and k` go down and up a cell\n",
    "\n",
    "`command mode: m and y` convert a cell to markdown or code"
   ]
  },
  {
   "cell_type": "markdown",
   "metadata": {},
   "source": [
    "`Simple random sample (SRS)` means a random sample where each possible item in the sample has an equal chance of being chosen.  The Literary Digest example was not an SRS because only certain people were likely to respond.  An actual SRS of 100 people would have been a better prediction.\n",
    "\n",
    "`Census` Information on all subjects.\n",
    "\n",
    "`Subset or sample` Information on some subjects.\n",
    "\n",
    "`Self-selected sample` Subset is whoever chooses to answer.\n",
    "\n",
    "`Convenience sample` Subset is whomever is convenient for researcher.\n",
    "\n",
    "`Judgment sample` Subset is whomever researcher deliberately selects.\n",
    "\n",
    "`Probability sample` Subset involves some probabilistic selection.\n",
    "\n",
    "`Administrative dataset` A dataset collected as part of administrative work (e.g. social security names, restaurant safety ratings, etc.).\n",
    "\n"
   ]
  },
  {
   "cell_type": "markdown",
   "metadata": {},
   "source": [
    "**How do I use matplotlib?**\n",
    "\n",
    "First, import it.  Then, this line is what actually plots the blue linear function:\n",
    "\n",
    "    plt.plot([1,2,3,4]) \n",
    "\n",
    "If plt.plot is only given a list, it assumes you gave it a bunch of y values.\n",
    "So the (x, y) pairs are (0, 1) (1, 2) (2, 3) (3, 4).  By default, x indices start at 0.\n",
    "\n",
    "plt.show tells the whatever to actually draw the graph.  Otherwise, nothing will be shown.  Well, that's not entirely true.  Jupyter will just shit out all of the info in the cell, which includes the graph, among other things.  plt.show basically says 'this is the thing that i want you to draw.  Draw nothing else.'"
   ]
  },
  {
   "cell_type": "code",
   "execution_count": 18,
   "metadata": {},
   "outputs": [
    {
     "data": {
      "image/png": "[encoded data removed]",
      "text/plain": [
       "<Figure size 432x288 with 1 Axes>"
      ]
     },
     "metadata": {},
     "output_type": "display_data"
    }
   ],
   "source": [
    "import matplotlib.pyplot as plt\n",
    "plt.plot([1,2,3,4])\n",
    "plt.ylabel('some numbers')\n",
    "plt.show()"
   ]
  },
  {
   "cell_type": "markdown",
   "metadata": {},
   "source": [
    "**How do I plot multiple things on one graph?**\n",
    "\n",
    "t is the list of x values.\n",
    "\n",
    "linspace takes in (range min, range max, number of data points).  The range max is inclusive.\n",
    "\n",
    "First, look at the below plt.plot.  \n",
    "\n",
    "It looks likes plt.plot(x, y, z, x, y, z, x, y, z).  \n",
    "\n",
    "Each x is the x points, each y are the corresponding y values, and z is how we graph it.\n",
    "\n",
    "(t, t, 'r--') plots the function f(t)=t in dashed red lines.  'r-' would have made it a \n",
    "\n",
    "(t, t\\*\\*2, 'bs') plots the function f(t)=t^2 in blue squares.\n",
    "\n",
    "(t, t\\*\\*3, 'g^') plots the function f(t)=t^3 in green triangles."
   ]
  },
  {
   "cell_type": "code",
   "execution_count": 23,
   "metadata": {},
   "outputs": [
    {
     "data": {
      "image/png": "[encoded data removed]",
      "text/plain": [
       "<Figure size 432x288 with 1 Axes>"
      ]
     },
     "metadata": {},
     "output_type": "display_data"
    }
   ],
   "source": [
    "import numpy as np\n",
    "t = np.linspace(0., 5., 25)\n",
    "plt.plot(t, t, 'r--', t, t**2, 'bs', t, t**3, 'g^')\n",
    "plt.show()"
   ]
  },
  {
   "cell_type": "markdown",
   "metadata": {},
   "source": [
    "**What is a dataframe?**\n",
    "\n",
    "Dataframes are tables.  Here are the 2 ways to make them.\n",
    "\n",
    "    fruit_info = pd.DataFrame(\n",
    "        data={'fruit': ['apple', 'orange', 'banana', 'raspberry'],\n",
    "              'color': ['red', 'orange', 'yellow', 'pink']\n",
    "              })\n",
    "\n",
    "    fruit_info2 = pd.DataFrame(\n",
    "        [(\"red\", \"apple\"), (\"orange\", \"orange\"), (\"yellow\", \"banana\"),\n",
    "         (\"pink\", \"raspberry\")], \n",
    "        columns = [\"color\", \"fruit\"])\n",
    "        \n",
    "fruit_info describes the columns (fruit and color).  \n",
    "\n",
    "fruit_info2 describes the rows, or items, instead.  \n",
    "\n",
    "These 2 things are equivalent, and will be indexed the same way."
   ]
  },
  {
   "cell_type": "markdown",
   "metadata": {},
   "source": [
    "**What is the difference between a row and a column?**\n",
    "\n",
    "Each row is an item.  Each row represents a different instance of the same thing.  A person, a fruit, a movie.\n",
    "\n",
    "Each item has a bunch of attributes, and these attributes are stored in columns.  Personality, job, appearance.  Name, color.  Genre, budget, rating."
   ]
  },
  {
   "cell_type": "markdown",
   "metadata": {},
   "source": [
    "**What is a label?**\n",
    "\n",
    "Labels are the names of the columns."
   ]
  },
  {
   "cell_type": "markdown",
   "metadata": {},
   "source": [
    "**What is an index?**\n",
    "\n",
    "Labels are for columns, indices are for rows.  By default, rows are indexed 0, 1, 2, 3, etc.  But you can also give rows alphanumeric labels.  Relabelling doesn't get rid of the numeric indices, but coexists with them."
   ]
  },
  {
   "cell_type": "markdown",
   "metadata": {},
   "source": [
    "**What does loc do?**\n",
    "\n",
    "It does the same thing as when you just regularly index into a dataframe.\n",
    "\n",
    "It lets you grab data from the dataframe.\n",
    "\n",
    "It will return a dataframe or a series depending on how you do it.\n",
    "\n",
    "There are some good examples in the documentation:\n",
    "\n",
    "https://pandas.pydata.org/pandas-docs/stable/generated/pandas.DataFrame.loc.html"
   ]
  },
  {
   "cell_type": "code",
   "execution_count": null,
   "metadata": {},
   "outputs": [],
   "source": []
  }
 ],
 "metadata": {
  "kernelspec": {
   "display_name": "Python 3",
   "language": "python",
   "name": "python3"
  },
  "language_info": {
   "codemirror_mode": {
    "name": "ipython",
    "version": 3
   },
   "file_extension": ".py",
   "mimetype": "text/x-python",
   "name": "python",
   "nbconvert_exporter": "python",
   "pygments_lexer": "ipython3",
   "version": "3.6.5"
  }
 },
 "nbformat": 4,
 "nbformat_minor": 2
}
