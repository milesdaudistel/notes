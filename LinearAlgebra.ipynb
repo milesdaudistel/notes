{
 "cells": [
  {
   "cell_type": "markdown",
   "metadata": {},
   "source": [
    "# linear algebra\n",
    "`vectors` are lists of numbers.  Here's an example:  \n",
    "\n",
    "[1, 3, 5, 3.423].  \n",
    "\n",
    "In regular algebra, you used `scalar` numbers to describe things.  4 apples.  1 person.  3 slices of pie.  In linear algebra, you use vectors to describe things.  Each number in the list describes some characteristic of the thing you're describing.  We could say an apple is described by a vector where the first number describes the apples weight, the second describes its volume, the third describes its caloric content, and the fourth describes its acid content.\n",
    "\n",
    "In physics, vectors are often thought of as arrows in space, usually 2d or 3d space.  Each number in these vectors describes one of the d's (dimensions) in those spaces.  Really, it's the same either way.  You could interpret a physics vector as just a list of numbers, and you could interpret an apple vector as an arrow in 4-dimensional apple space.\n",
    "\n",
    "A scalar is really just a 1d vector.  4 apples in 1d apple space.  1 person in 1d person space.  3 slices of pie in 1d pie space.\n",
    "\n",
    "`linear combinations` are combinations of vectors.  Vectors can be stretched, squished, and added together.  \n",
    "\n",
    "You can stretch / squish a vector by multiplying it by a scalar.  \n",
    "\n",
    "You can add vectors together by adding their individual components together.\n",
    "\n",
    "The `span` of a set of vectors is all the new vectors you can make through linear combinations of the vectors in your set.\n",
    "\n",
    "`i hat, j hat, k hat` are simple vectors that are commonly used to make linear combinations.  i hat is for the x dimension, j hat for y, and k hat for z.  i hat and j hat are commonly used as the basis vectors of R^2, meaning that they span R^2.  i, j, and k are commonly used as the basis vectors of R^3.\n",
    "\n",
    "$$\n",
    "\\hat{i} = [1, 0, 0] \\\\\n",
    "\\hat{j} = [0, 1, 0] \\\\\n",
    "\\hat{k} = [0, 0, 1] \\\\\n",
    "$$\n",
    "\n",
    "Think of a robot that can only move by deciding to move either $\\hat{i},\\hat{j},$ or $\\hat{k}$, or some fraction of anyof them.  It could go anywhere in 3-dimensionsal space.  If you think of a set of vectors as the decisions of a robot, then all the places the robot can go is the span of that set of vectors.\n",
    "\n",
    "`basis vectors` It turns out that $\\hat{i},\\hat{j},$ and $\\hat{k}$ are special vectors, because they are `linearly independent`.  They have nothing in common in terms of where they can point.  They are all `orthogonal` to eachother.  Consider the vector $\\hat{g}$ = [0, 1, 1].  $\\hat{g}$ is independent from $\\hat{i}$, but not independent from $\\hat{j}$ or $\\hat{k}$.  The three vectors $\\hat{i}$,$\\hat{j}$,$\\hat{g}$ are a spanning set of R^3, but they are not a set of basis vectors for R^3, because they are not all linearly independent from eachother.  Basis vectors are easier to make linear combinations with.\n",
    "\n",
    "Imagine if your robot wanted to move 1 space in the z direction.  The only way to do that would be to select $\\hat{g}$.  But then it would also have to move -1*$\\hat{j}$.  This robot is basically z-disabled.  Look at what you've done.  You've crippled your robot.\n",
    "\n",
    "Then again, the robot is more efficient in moving in the specific direction that $\\hat{g}$ is going in.  But we want to be equally efficient in moving in any direction, because we're equally likely to move in any direction.  Linearly independent basis vectors are the way to go.\n",
    "\n",
    "But what about the vectors $\\hat{g}$ = [2, 1] and $\\hat{h}$ = [1, -2]?  Those actually also have nothing in common.  While the individual vectors are a little weird, this robot is just as efficient as our ijk robot.  So how do you tell if 2 vectors 'have nothing in common'?  With the dot product.\n",
    "\n",
    "`dot product` is very flexible.  One thing it can do is tell you whether 2 vectors are orthogonal.  Here is the formula:  \n",
    "\n",
    "$\\hat{g}*\\hat{h} = g_1*h_1+g_2*h_2+g_3*h_3+...$\n",
    "\n",
    "So the dot product is a function that turns 2 vectors into a scalar.  If the dot product of 2 vectors is 0, those vectors are orthogonal.\n",
    "\n",
    "Dot product is just a regular matrix transformation.  But it's the vector that is the matrix.  1 vector is the vector space that you're going to, and the other vector is the one being transformed into that space.  This works no matter which vector you pick.  Yeah, should probably hold off on this (and the 'but what about...?') question until after you explain matrix transformations.\n"
   ]
  },
  {
   "cell_type": "code",
   "execution_count": null,
   "metadata": {},
   "outputs": [],
   "source": []
  }
 ],
 "metadata": {
  "kernelspec": {
   "display_name": "Python 3",
   "language": "python",
   "name": "python3"
  },
  "language_info": {
   "codemirror_mode": {
    "name": "ipython",
    "version": 3
   },
   "file_extension": ".py",
   "mimetype": "text/x-python",
   "name": "python",
   "nbconvert_exporter": "python",
   "pygments_lexer": "ipython3",
   "version": "3.6.5"
  }
 },
 "nbformat": 4,
 "nbformat_minor": 2
}
