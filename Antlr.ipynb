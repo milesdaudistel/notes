{
 "cells": [
  {
   "cell_type": "markdown",
   "metadata": {},
   "source": [
    "what is the difference between an expression and a statement?\n",
    "    A statement is a valid line in a computer program.\n",
    "    An expression is a kind of statement that yield a value.\n",
    "    Expressions can be parts of large statements.\n",
    "    Expression example:\n",
    "        3 + 5\n",
    "        map(lambda x: x\\*x, range(10))\n",
    "        [a.x for a in some_iterable]\n",
    "        yield 7\n",
    "    Statement Example:\n",
    "        print 42\n",
    "        if x: do_y()\n",
    "        return\n",
    "        a = 7\n",
    "    A statement can have side effects, basically.\n",
    "    But doesn't a=7 return 7?\n",
    "        yes, but it also has the side effect of putting 7 into the variable a.  So it's not an expression.\n",
    "        \n"
   ]
  },
  {
   "cell_type": "markdown",
   "metadata": {},
   "source": [
    "What is a typical example of a grammar in antlr?\n",
    "\n",
    "```\n",
    "/** The start rule; begin parsing here. */\n",
    "prog: stat+ ;\n",
    "\n",
    "stat: expr NEWLINE\n",
    "| ID '=' expr NEWLINE\n",
    "| NEWLINE\n",
    ";\n",
    "\n",
    "expr: expr ('*'|'/') expr\n",
    "| expr ('+'|'-') expr\n",
    "| INT\n",
    "| ID\n",
    "| '(' expr ')'\n",
    ";\n",
    "\n",
    "ID : [a-zA-Z]+ ; // match identifiers\n",
    "INT : [0-9]+ ; // match integers\n",
    "NEWLINE:'\\r'? '\\n' ; // return newlines to parser (is end-statement signal)\n",
    "WS : [ \\t]+ -> skip ; // toss out whitespace\n",
    "```\n",
    "\n",
    "Notice the `sub rules`, enclosed in parenthesis.  One example being `('*'|'/')`.  You can put regex-like stuff in your sub rules.  Also notice that there are no semantic actions yet.\n",
    "\n",
    "If it starts with an upper case letter, it's a lexer rule.  If it starts with a lowercase letter, it's a parser rule.\n",
    "\n",
    "Doesn't the expr part include left recursion, which isn't allowed in an LL grammar?\n",
    "    Correct.  Supposedly antlr4 can handle it though.  Read more in section 5.4.\n",
    "    \n",
    "How can I match whitespace for indent/dedent tokens?\n",
    "\n",
    "How do I get the tree output so I can feed it to the semantic analyzer?"
   ]
  },
  {
   "cell_type": "markdown",
   "metadata": {},
   "source": [
    "How do I give the grammar semantic actions?"
   ]
  }
 ],
 "metadata": {
  "kernelspec": {
   "display_name": "Python 3",
   "language": "python",
   "name": "python3"
  },
  "language_info": {
   "codemirror_mode": {
    "name": "ipython",
    "version": 3
   },
   "file_extension": ".py",
   "mimetype": "text/x-python",
   "name": "python",
   "nbconvert_exporter": "python",
   "pygments_lexer": "ipython3",
   "version": "3.6.5"
  }
 },
 "nbformat": 4,
 "nbformat_minor": 2
}
